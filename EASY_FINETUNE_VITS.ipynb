{
  "nbformat": 4,
  "nbformat_minor": 0,
  "metadata": {
    "colab": {
      "provenance": [],
      "gpuType": "T4"
    },
    "kernelspec": {
      "name": "python3",
      "display_name": "Python 3"
    },
    "language_info": {
      "name": "python"
    },
    "accelerator": "GPU"
  },
  "cells": [
    {
      "cell_type": "markdown",
      "source": [
        "# **ติดตั้ง**"
      ],
      "metadata": {
        "id": "wh2wgoyYIFEa"
      }
    },
    {
      "cell_type": "code",
      "source": [
        "!git clone https://github.com/VYNCX/finetune-local-vits-colab.git\n",
        "%cd finetune-local-vits\n",
        "!pip install -r requirements.txt\n",
        "#for thai language\n",
        "!pip install pythainlp"
      ],
      "metadata": {
        "collapsed": true,
        "id": "--AleijyHrjj"
      },
      "execution_count": null,
      "outputs": []
    },
    {
      "cell_type": "markdown",
      "source": [
        "ถ้าใช้ Dataset จาก Google Drive #อย่าลืมจำตำแหน่ง dataset"
      ],
      "metadata": {
        "id": "vFiFTXKQjgK_"
      }
    },
    {
      "cell_type": "code",
      "source": [
        "from google.colab import drive\n",
        "drive.mount('/content/drive')"
      ],
      "metadata": {
        "id": "7cQePMKbCnwQ"
      },
      "execution_count": null,
      "outputs": []
    },
    {
      "cell_type": "markdown",
      "source": [
        "การติดตั้งทางเลือก"
      ],
      "metadata": {
        "id": "_uenf8HBItlq"
      }
    },
    {
      "cell_type": "code",
      "source": [
        "%cd monotonic_align\n",
        "!mkdir monotonic_align\n",
        "!python setup.py build_ext --inplace"
      ],
      "metadata": {
        "collapsed": true,
        "id": "CxEuotMhH6Vz"
      },
      "execution_count": null,
      "outputs": []
    },
    {
      "cell_type": "markdown",
      "source": [
        "# **ดาวน์โหลด Pretrained Model**"
      ],
      "metadata": {
        "id": "3YlxgvLTIVmC"
      }
    },
    {
      "cell_type": "code",
      "source": [
        "%cd /content/finetune-local-vits\n",
        "!python convert_original_discriminator_checkpoint.py --language_code tha --pytorch_dump_folder_path ./models\n"
      ],
      "metadata": {
        "id": "NAMKtwNFIi8D"
      },
      "execution_count": null,
      "outputs": []
    },
    {
      "cell_type": "markdown",
      "source": [
        "# **เริ่ม Finetune**"
      ],
      "metadata": {
        "id": "m0L-U1VqJ1jR"
      }
    },
    {
      "cell_type": "code",
      "source": [
        "%cd /content/finetune-local-vits\n",
        "!accelerate launch run_vits_finetuning.py ./training_config_examples/finetune_mms_thai.json"
      ],
      "metadata": {
        "id": "8BCNrtFnJ-oJ"
      },
      "execution_count": null,
      "outputs": []
    }
  ]
}